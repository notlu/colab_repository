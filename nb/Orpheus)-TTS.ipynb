{
  "cells": [
    {
      "cell_type": "markdown",
      "metadata": {
        "id": "view-in-github",
        "colab_type": "text"
      },
      "source": [
        "<a href=\"https://colab.research.google.com/github/notlu/colab_repository/blob/main/nb/Orpheus)-TTS.ipynb\" target=\"_parent\"><img src=\"https://colab.research.google.com/assets/colab-badge.svg\" alt=\"Open In Colab\"/></a>"
      ]
    },
    {
      "cell_type": "markdown",
      "metadata": {
        "id": "TyrCPbj7UvfZ"
      },
      "source": [
        "To run this, press \"*Runtime*\" and press \"*Run all*\" on a **free** Tesla T4 Google Colab instance!\n",
        "<div class=\"align-center\">\n",
        "<a href=\"https://unsloth.ai/\"><img src=\"https://github.com/unslothai/unsloth/raw/main/images/unsloth%20new%20logo.png\" width=\"115\"></a>\n",
        "<a href=\"https://discord.gg/unsloth\"><img src=\"https://github.com/unslothai/unsloth/raw/main/images/Discord button.png\" width=\"145\"></a>\n",
        "<a href=\"https://docs.unsloth.ai/\"><img src=\"https://github.com/unslothai/unsloth/blob/main/images/documentation%20green%20button.png?raw=true\" width=\"125\"></a></a> Join Discord if you need help + ⭐ <i>Star us on <a href=\"https://github.com/unslothai/unsloth\">Github</a> </i> ⭐\n",
        "</div>\n",
        "\n",
        "To install Unsloth on your own computer, follow the installation instructions on our Github page [here](https://docs.unsloth.ai/get-started/installing-+-updating).\n",
        "\n",
        "You will learn how to do [data prep](#Data), how to [train](#Train), how to [run the model](#Inference), & [how to save it](#Save)\n"
      ]
    },
    {
      "cell_type": "markdown",
      "metadata": {
        "id": "Q6QGVYF0Uvfb"
      },
      "source": [
        "### News"
      ]
    },
    {
      "cell_type": "markdown",
      "metadata": {
        "id": "PDGVMxIJUvfc"
      },
      "source": [
        "**Read our [Gemma 3 blog](https://unsloth.ai/blog/gemma3) for what's new in Unsloth and our [Reasoning blog](https://unsloth.ai/blog/r1-reasoning) on how to train reasoning models.**\n",
        "\n",
        "Visit our docs for all our [model uploads](https://docs.unsloth.ai/get-started/all-our-models) and [notebooks](https://docs.unsloth.ai/get-started/unsloth-notebooks).\n"
      ]
    },
    {
      "cell_type": "markdown",
      "metadata": {
        "id": "bBErhEjcUvfc"
      },
      "source": [
        "### Installation"
      ]
    },
    {
      "cell_type": "code",
      "execution_count": 27,
      "metadata": {
        "id": "NM4iixQ3Uvfd"
      },
      "outputs": [],
      "source": [
        "%%capture\n",
        "import os\n",
        "if \"COLAB_\" not in \"\".join(os.environ.keys()):\n",
        "    !pip install unsloth\n",
        "else:\n",
        "    # Do this only in Colab notebooks! Otherwise use pip install unsloth\n",
        "    !pip install --no-deps bitsandbytes accelerate xformers==0.0.29.post3 peft trl==0.15.2 triton cut_cross_entropy unsloth_zoo\n",
        "    !pip install sentencepiece protobuf datasets huggingface_hub hf_transfer\n",
        "    !pip install --no-deps unsloth\n",
        "!pip install snac\n"
      ]
    },
    {
      "cell_type": "code",
      "source": [
        "from huggingface_hub import notebook_login\n",
        "\n",
        "notebook_login()"
      ],
      "metadata": {
        "colab": {
          "base_uri": "https://localhost:8080/",
          "height": 17,
          "referenced_widgets": [
            "cbb64bf119d34ca99b57488d1cfc932c",
            "ed60bace38b748afaed20b485d726d77",
            "ffbece4a08e84e18bafe7b14fcde3f44",
            "b9996ee16c0345fb985de5baad697296",
            "9f0de80e866045979be37342d7bdef7c",
            "c41c654f839c4835b3db8c681dbe2aa6",
            "a266bbb3dda34687b6aa70e821cf0e80",
            "aa0dee381ba54ec3aebfb6475520d20a",
            "9fd0a6e30f7d4a809aebcea255456483",
            "81e930b8bad74c6cb9b9b99b96af0589",
            "7d9c220c604d42ba999af1b0d4d58126",
            "6870aafa0cd643c289cfb56d978ed7f0",
            "b07becac8ea24a8b9e3ba3837b576c93",
            "97468fd0a34a41caaad0841e25fb7296",
            "dfd115a99ea8433e8963ed2f8936875e",
            "135376f6f7244f0d9ccd0bfcfeb2096a",
            "5ca0c6c7e18d453bba4f7df278ae1c6a",
            "26ba3522d34643daa8f2849d8aed7dc6",
            "b9460c25bd454825912575d0be493dac",
            "c26c9fa2efda405fae8846287bb1ffd8"
          ]
        },
        "id": "1bIgC5dgk_a6",
        "outputId": "45fc5d9e-409e-44b2-97fb-69d92cbea1cd"
      },
      "execution_count": 28,
      "outputs": [
        {
          "output_type": "display_data",
          "data": {
            "text/plain": [
              "VBox(children=(HTML(value='<center> <img\\nsrc=https://huggingface.co/front/assets/huggingface_logo-noborder.sv…"
            ],
            "application/vnd.jupyter.widget-view+json": {
              "version_major": 2,
              "version_minor": 0,
              "model_id": "cbb64bf119d34ca99b57488d1cfc932c"
            }
          },
          "metadata": {}
        }
      ]
    },
    {
      "cell_type": "code",
      "source": [
        "!export HF_ENDPOINT=https://hf-mirror.com"
      ],
      "metadata": {
        "id": "pKz08s6IgjgE"
      },
      "execution_count": 29,
      "outputs": []
    },
    {
      "cell_type": "markdown",
      "metadata": {
        "id": "AkWYsztAs9Ky"
      },
      "source": [
        "### Unsloth\n",
        "\n",
        "`FastModel` supports loading nearly any model now! This includes Vision and Text models!\n",
        "\n",
        "Thank you to [Etherl](https://huggingface.co/Etherll) for creating this notebook!"
      ]
    },
    {
      "cell_type": "code",
      "execution_count": 80,
      "metadata": {
        "colab": {
          "base_uri": "https://localhost:8080/",
          "height": 512
        },
        "execution": {
          "iopub.execute_input": "2025-03-22T00:48:54.511089Z",
          "iopub.status.busy": "2025-03-22T00:48:54.510770Z",
          "iopub.status.idle": "2025-03-22T00:51:37.363415Z",
          "shell.execute_reply": "2025-03-22T00:51:37.362696Z",
          "shell.execute_reply.started": "2025-03-22T00:48:54.511053Z"
        },
        "id": "QmUBVEnvCDJv",
        "outputId": "0c39837e-a231-4ecb-eb9f-4b2d8cfced9e",
        "trusted": true
      },
      "outputs": [
        {
          "output_type": "stream",
          "name": "stdout",
          "text": [
            "==((====))==  Unsloth 2025.3.19: Fast Llama patching. Transformers: 4.51.3.\n",
            "   \\\\   /|    Tesla T4. Num GPUs = 1. Max memory: 14.741 GB. Platform: Linux.\n",
            "O^O/ \\_/ \\    Torch: 2.6.0+cu124. CUDA: 7.5. CUDA Toolkit: 12.4. Triton: 3.2.0\n",
            "\\        /    Bfloat16 = FALSE. FA [Xformers = 0.0.29.post3. FA2 = False]\n",
            " \"-____-\"     Free license: http://github.com/unslothai/unsloth\n",
            "Unsloth: Fast downloading is enabled - ignore downloading bars which are red colored!\n"
          ]
        },
        {
          "output_type": "error",
          "ename": "ValueError",
          "evalue": "Some modules are dispatched on the CPU or the disk. Make sure you have enough GPU RAM to fit the quantized model. If you want to dispatch the model on the CPU or the disk while keeping these modules in 32-bit, you need to set `llm_int8_enable_fp32_cpu_offload=True` and pass a custom `device_map` to `from_pretrained`. Check https://huggingface.co/docs/transformers/main/en/main_classes/quantization#offload-between-cpu-and-gpu for more details. ",
          "traceback": [
            "\u001b[0;31m---------------------------------------------------------------------------\u001b[0m",
            "\u001b[0;31mValueError\u001b[0m                                Traceback (most recent call last)",
            "\u001b[0;32m<ipython-input-80-d3f7c0262854>\u001b[0m in \u001b[0;36m<cell line: 0>\u001b[0;34m()\u001b[0m\n\u001b[1;32m     19\u001b[0m ] # More models at https://huggingface.co/unsloth\n\u001b[1;32m     20\u001b[0m \u001b[0;34m\u001b[0m\u001b[0m\n\u001b[0;32m---> 21\u001b[0;31m model, tokenizer = FastLanguageModel.from_pretrained(\n\u001b[0m\u001b[1;32m     22\u001b[0m     \u001b[0mmodel_name\u001b[0m \u001b[0;34m=\u001b[0m \u001b[0;34m\"unsloth/orpheus-3b-0.1-ft-unsloth-bnb-4bit\"\u001b[0m\u001b[0;34m,\u001b[0m\u001b[0;34m\u001b[0m\u001b[0;34m\u001b[0m\u001b[0m\n\u001b[1;32m     23\u001b[0m     \u001b[0mmax_seq_length\u001b[0m\u001b[0;34m=\u001b[0m \u001b[0;36m2048\u001b[0m\u001b[0;34m,\u001b[0m \u001b[0;31m# Choose any for long context!\u001b[0m\u001b[0;34m\u001b[0m\u001b[0;34m\u001b[0m\u001b[0m\n",
            "\u001b[0;32m/usr/local/lib/python3.11/dist-packages/unsloth/models/loader.py\u001b[0m in \u001b[0;36mfrom_pretrained\u001b[0;34m(model_name, max_seq_length, dtype, load_in_4bit, load_in_8bit, full_finetuning, token, device_map, rope_scaling, fix_tokenizer, trust_remote_code, use_gradient_checkpointing, resize_model_vocab, revision, use_exact_model_name, fast_inference, gpu_memory_utilization, float8_kv_cache, random_state, max_lora_rank, disable_log_stats, *args, **kwargs)\u001b[0m\n\u001b[1;32m    361\u001b[0m         \u001b[0;32mpass\u001b[0m\u001b[0;34m\u001b[0m\u001b[0;34m\u001b[0m\u001b[0m\n\u001b[1;32m    362\u001b[0m \u001b[0;34m\u001b[0m\u001b[0m\n\u001b[0;32m--> 363\u001b[0;31m         model, tokenizer = dispatch_model.from_pretrained(\n\u001b[0m\u001b[1;32m    364\u001b[0m             \u001b[0mmodel_name\u001b[0m        \u001b[0;34m=\u001b[0m \u001b[0mmodel_name\u001b[0m\u001b[0;34m,\u001b[0m\u001b[0;34m\u001b[0m\u001b[0;34m\u001b[0m\u001b[0m\n\u001b[1;32m    365\u001b[0m             \u001b[0mmax_seq_length\u001b[0m    \u001b[0;34m=\u001b[0m \u001b[0mmax_seq_length\u001b[0m\u001b[0;34m,\u001b[0m\u001b[0;34m\u001b[0m\u001b[0;34m\u001b[0m\u001b[0m\n",
            "\u001b[0;32m/usr/local/lib/python3.11/dist-packages/unsloth/models/llama.py\u001b[0m in \u001b[0;36mfrom_pretrained\u001b[0;34m(model_name, max_seq_length, dtype, load_in_4bit, token, device_map, rope_scaling, fix_tokenizer, model_patcher, tokenizer_name, trust_remote_code, fast_inference, gpu_memory_utilization, float8_kv_cache, random_state, max_lora_rank, disable_log_stats, **kwargs)\u001b[0m\n\u001b[1;32m   1778\u001b[0m \u001b[0;34m\u001b[0m\u001b[0m\n\u001b[1;32m   1779\u001b[0m         \u001b[0;32mif\u001b[0m \u001b[0;32mnot\u001b[0m \u001b[0mfast_inference\u001b[0m\u001b[0;34m:\u001b[0m\u001b[0;34m\u001b[0m\u001b[0;34m\u001b[0m\u001b[0m\n\u001b[0;32m-> 1780\u001b[0;31m             model = AutoModelForCausalLM.from_pretrained(\n\u001b[0m\u001b[1;32m   1781\u001b[0m                 \u001b[0mmodel_name\u001b[0m\u001b[0;34m,\u001b[0m\u001b[0;34m\u001b[0m\u001b[0;34m\u001b[0m\u001b[0m\n\u001b[1;32m   1782\u001b[0m                 \u001b[0mdevice_map\u001b[0m              \u001b[0;34m=\u001b[0m \u001b[0mdevice_map\u001b[0m\u001b[0;34m,\u001b[0m\u001b[0;34m\u001b[0m\u001b[0;34m\u001b[0m\u001b[0m\n",
            "\u001b[0;32m/usr/local/lib/python3.11/dist-packages/transformers/models/auto/auto_factory.py\u001b[0m in \u001b[0;36mfrom_pretrained\u001b[0;34m(cls, pretrained_model_name_or_path, *model_args, **kwargs)\u001b[0m\n\u001b[1;32m    569\u001b[0m             \u001b[0;32mif\u001b[0m \u001b[0mmodel_class\u001b[0m\u001b[0;34m.\u001b[0m\u001b[0mconfig_class\u001b[0m \u001b[0;34m==\u001b[0m \u001b[0mconfig\u001b[0m\u001b[0;34m.\u001b[0m\u001b[0msub_configs\u001b[0m\u001b[0;34m.\u001b[0m\u001b[0mget\u001b[0m\u001b[0;34m(\u001b[0m\u001b[0;34m\"text_config\"\u001b[0m\u001b[0;34m,\u001b[0m \u001b[0;32mNone\u001b[0m\u001b[0;34m)\u001b[0m\u001b[0;34m:\u001b[0m\u001b[0;34m\u001b[0m\u001b[0;34m\u001b[0m\u001b[0m\n\u001b[1;32m    570\u001b[0m                 \u001b[0mconfig\u001b[0m \u001b[0;34m=\u001b[0m \u001b[0mconfig\u001b[0m\u001b[0;34m.\u001b[0m\u001b[0mget_text_config\u001b[0m\u001b[0;34m(\u001b[0m\u001b[0;34m)\u001b[0m\u001b[0;34m\u001b[0m\u001b[0;34m\u001b[0m\u001b[0m\n\u001b[0;32m--> 571\u001b[0;31m             return model_class.from_pretrained(\n\u001b[0m\u001b[1;32m    572\u001b[0m                 \u001b[0mpretrained_model_name_or_path\u001b[0m\u001b[0;34m,\u001b[0m \u001b[0;34m*\u001b[0m\u001b[0mmodel_args\u001b[0m\u001b[0;34m,\u001b[0m \u001b[0mconfig\u001b[0m\u001b[0;34m=\u001b[0m\u001b[0mconfig\u001b[0m\u001b[0;34m,\u001b[0m \u001b[0;34m**\u001b[0m\u001b[0mhub_kwargs\u001b[0m\u001b[0;34m,\u001b[0m \u001b[0;34m**\u001b[0m\u001b[0mkwargs\u001b[0m\u001b[0;34m\u001b[0m\u001b[0;34m\u001b[0m\u001b[0m\n\u001b[1;32m    573\u001b[0m             )\n",
            "\u001b[0;32m/usr/local/lib/python3.11/dist-packages/transformers/modeling_utils.py\u001b[0m in \u001b[0;36m_wrapper\u001b[0;34m(*args, **kwargs)\u001b[0m\n\u001b[1;32m    277\u001b[0m         \u001b[0mold_dtype\u001b[0m \u001b[0;34m=\u001b[0m \u001b[0mtorch\u001b[0m\u001b[0;34m.\u001b[0m\u001b[0mget_default_dtype\u001b[0m\u001b[0;34m(\u001b[0m\u001b[0;34m)\u001b[0m\u001b[0;34m\u001b[0m\u001b[0;34m\u001b[0m\u001b[0m\n\u001b[1;32m    278\u001b[0m         \u001b[0;32mtry\u001b[0m\u001b[0;34m:\u001b[0m\u001b[0;34m\u001b[0m\u001b[0;34m\u001b[0m\u001b[0m\n\u001b[0;32m--> 279\u001b[0;31m             \u001b[0;32mreturn\u001b[0m \u001b[0mfunc\u001b[0m\u001b[0;34m(\u001b[0m\u001b[0;34m*\u001b[0m\u001b[0margs\u001b[0m\u001b[0;34m,\u001b[0m \u001b[0;34m**\u001b[0m\u001b[0mkwargs\u001b[0m\u001b[0;34m)\u001b[0m\u001b[0;34m\u001b[0m\u001b[0;34m\u001b[0m\u001b[0m\n\u001b[0m\u001b[1;32m    280\u001b[0m         \u001b[0;32mfinally\u001b[0m\u001b[0;34m:\u001b[0m\u001b[0;34m\u001b[0m\u001b[0;34m\u001b[0m\u001b[0m\n\u001b[1;32m    281\u001b[0m             \u001b[0mtorch\u001b[0m\u001b[0;34m.\u001b[0m\u001b[0mset_default_dtype\u001b[0m\u001b[0;34m(\u001b[0m\u001b[0mold_dtype\u001b[0m\u001b[0;34m)\u001b[0m\u001b[0;34m\u001b[0m\u001b[0;34m\u001b[0m\u001b[0m\n",
            "\u001b[0;32m/usr/local/lib/python3.11/dist-packages/transformers/modeling_utils.py\u001b[0m in \u001b[0;36mfrom_pretrained\u001b[0;34m(cls, pretrained_model_name_or_path, config, cache_dir, ignore_mismatched_sizes, force_download, local_files_only, token, revision, use_safetensors, weights_only, *model_args, **kwargs)\u001b[0m\n\u001b[1;32m   4378\u001b[0m         \u001b[0;31m# Prepare the full device map\u001b[0m\u001b[0;34m\u001b[0m\u001b[0;34m\u001b[0m\u001b[0m\n\u001b[1;32m   4379\u001b[0m         \u001b[0;32mif\u001b[0m \u001b[0mdevice_map\u001b[0m \u001b[0;32mis\u001b[0m \u001b[0;32mnot\u001b[0m \u001b[0;32mNone\u001b[0m\u001b[0;34m:\u001b[0m\u001b[0;34m\u001b[0m\u001b[0;34m\u001b[0m\u001b[0m\n\u001b[0;32m-> 4380\u001b[0;31m             \u001b[0mdevice_map\u001b[0m \u001b[0;34m=\u001b[0m \u001b[0m_get_device_map\u001b[0m\u001b[0;34m(\u001b[0m\u001b[0mmodel\u001b[0m\u001b[0;34m,\u001b[0m \u001b[0mdevice_map\u001b[0m\u001b[0;34m,\u001b[0m \u001b[0mmax_memory\u001b[0m\u001b[0;34m,\u001b[0m \u001b[0mhf_quantizer\u001b[0m\u001b[0;34m,\u001b[0m \u001b[0mtorch_dtype\u001b[0m\u001b[0;34m,\u001b[0m \u001b[0mkeep_in_fp32_regex\u001b[0m\u001b[0;34m)\u001b[0m\u001b[0;34m\u001b[0m\u001b[0;34m\u001b[0m\u001b[0m\n\u001b[0m\u001b[1;32m   4381\u001b[0m \u001b[0;34m\u001b[0m\u001b[0m\n\u001b[1;32m   4382\u001b[0m         \u001b[0;31m# Finalize model weight initialization\u001b[0m\u001b[0;34m\u001b[0m\u001b[0;34m\u001b[0m\u001b[0m\n",
            "\u001b[0;32m/usr/local/lib/python3.11/dist-packages/transformers/modeling_utils.py\u001b[0m in \u001b[0;36m_get_device_map\u001b[0;34m(model, device_map, max_memory, hf_quantizer, torch_dtype, keep_in_fp32_regex)\u001b[0m\n\u001b[1;32m   1302\u001b[0m \u001b[0;34m\u001b[0m\u001b[0m\n\u001b[1;32m   1303\u001b[0m         \u001b[0;32mif\u001b[0m \u001b[0mhf_quantizer\u001b[0m \u001b[0;32mis\u001b[0m \u001b[0;32mnot\u001b[0m \u001b[0;32mNone\u001b[0m\u001b[0;34m:\u001b[0m\u001b[0;34m\u001b[0m\u001b[0;34m\u001b[0m\u001b[0m\n\u001b[0;32m-> 1304\u001b[0;31m             \u001b[0mhf_quantizer\u001b[0m\u001b[0;34m.\u001b[0m\u001b[0mvalidate_environment\u001b[0m\u001b[0;34m(\u001b[0m\u001b[0mdevice_map\u001b[0m\u001b[0;34m=\u001b[0m\u001b[0mdevice_map\u001b[0m\u001b[0;34m)\u001b[0m\u001b[0;34m\u001b[0m\u001b[0;34m\u001b[0m\u001b[0m\n\u001b[0m\u001b[1;32m   1305\u001b[0m \u001b[0;34m\u001b[0m\u001b[0m\n\u001b[1;32m   1306\u001b[0m     \u001b[0;32melif\u001b[0m \u001b[0mdevice_map\u001b[0m \u001b[0;32mis\u001b[0m \u001b[0;32mnot\u001b[0m \u001b[0;32mNone\u001b[0m\u001b[0;34m:\u001b[0m\u001b[0;34m\u001b[0m\u001b[0;34m\u001b[0m\u001b[0m\n",
            "\u001b[0;32m/usr/local/lib/python3.11/dist-packages/transformers/quantizers/quantizer_bnb_4bit.py\u001b[0m in \u001b[0;36mvalidate_environment\u001b[0;34m(self, *args, **kwargs)\u001b[0m\n\u001b[1;32m    102\u001b[0m                 \u001b[0;32mpass\u001b[0m\u001b[0;34m\u001b[0m\u001b[0;34m\u001b[0m\u001b[0m\n\u001b[1;32m    103\u001b[0m             \u001b[0;32melif\u001b[0m \u001b[0;34m\"cpu\"\u001b[0m \u001b[0;32min\u001b[0m \u001b[0mdevice_map_without_lm_head\u001b[0m\u001b[0;34m.\u001b[0m\u001b[0mvalues\u001b[0m\u001b[0;34m(\u001b[0m\u001b[0;34m)\u001b[0m \u001b[0;32mor\u001b[0m \u001b[0;34m\"disk\"\u001b[0m \u001b[0;32min\u001b[0m \u001b[0mdevice_map_without_lm_head\u001b[0m\u001b[0;34m.\u001b[0m\u001b[0mvalues\u001b[0m\u001b[0;34m(\u001b[0m\u001b[0;34m)\u001b[0m\u001b[0;34m:\u001b[0m\u001b[0;34m\u001b[0m\u001b[0;34m\u001b[0m\u001b[0m\n\u001b[0;32m--> 104\u001b[0;31m                 raise ValueError(\n\u001b[0m\u001b[1;32m    105\u001b[0m                     \u001b[0;34m\"Some modules are dispatched on the CPU or the disk. Make sure you have enough GPU RAM to fit the \"\u001b[0m\u001b[0;34m\u001b[0m\u001b[0;34m\u001b[0m\u001b[0m\n\u001b[1;32m    106\u001b[0m                     \u001b[0;34m\"quantized model. If you want to dispatch the model on the CPU or the disk while keeping these modules \"\u001b[0m\u001b[0;34m\u001b[0m\u001b[0;34m\u001b[0m\u001b[0m\n",
            "\u001b[0;31mValueError\u001b[0m: Some modules are dispatched on the CPU or the disk. Make sure you have enough GPU RAM to fit the quantized model. If you want to dispatch the model on the CPU or the disk while keeping these modules in 32-bit, you need to set `llm_int8_enable_fp32_cpu_offload=True` and pass a custom `device_map` to `from_pretrained`. Check https://huggingface.co/docs/transformers/main/en/main_classes/quantization#offload-between-cpu-and-gpu for more details. "
          ]
        }
      ],
      "source": [
        "from unsloth import FastLanguageModel\n",
        "import torch\n",
        "dtype = None # None for auto detection. Float16 for Tesla T4, V100, Bfloat16 for Ampere+\n",
        "load_in_4bit = True # Use 4bit quantization to reduce memory usage. Can be False.\n",
        "# 4bit pre quantized models we support for 4x faster downloading + no OOMs.\n",
        "fourbit_models = [\n",
        "    \"unsloth/Meta-Llama-3.1-8B-bnb-4bit\",      # Llama-3.1 15 trillion tokens model 2x faster!\n",
        "    \"unsloth/Meta-Llama-3.1-8B-Instruct-bnb-4bit\",\n",
        "    \"unsloth/Meta-Llama-3.1-70B-bnb-4bit\",\n",
        "    \"unsloth/Meta-Llama-3.1-405B-bnb-4bit\",    # We also uploaded 4bit for 405b!\n",
        "    \"unsloth/Mistral-Nemo-Base-2407-bnb-4bit\", # New Mistral 12b 2x faster!\n",
        "    \"unsloth/Mistral-Nemo-Instruct-2407-bnb-4bit\",\n",
        "    \"unsloth/mistral-7b-v0.3-bnb-4bit\",        # Mistral v3 2x faster!\n",
        "    \"unsloth/mistral-7b-instruct-v0.3-bnb-4bit\",\n",
        "    \"unsloth/Phi-3.5-mini-instruct\",           # Phi-3.5 2x faster!\n",
        "    \"unsloth/Phi-3-medium-4k-instruct\",\n",
        "    \"unsloth/gemma-2-9b-bnb-4bit\",\n",
        "    \"unsloth/gemma-2-27b-bnb-4bit\",            # Gemma 2x faster!\n",
        "] # More models at https://huggingface.co/unsloth\n",
        "\n",
        "model, tokenizer = FastLanguageModel.from_pretrained(\n",
        "    model_name = \"unsloth/orpheus-3b-0.1-ft-unsloth-bnb-4bit\",\n",
        "    max_seq_length= 2048, # Choose any for long context!\n",
        "    dtype = dtype,\n",
        "    load_in_4bit = load_in_4bit,\n",
        "    #token = \"hf_...\", # use one if using gated models like meta-llama/Llama-2-7b-hf\n",
        ")"
      ]
    },
    {
      "cell_type": "markdown",
      "metadata": {
        "id": "SXd9bTZd1aaL"
      },
      "source": [
        "We now add LoRA adapters so we only need to update 1 to 10% of all parameters!"
      ]
    },
    {
      "cell_type": "code",
      "execution_count": null,
      "metadata": {
        "execution": {
          "iopub.execute_input": "2025-03-22T00:51:37.365079Z",
          "iopub.status.busy": "2025-03-22T00:51:37.364731Z",
          "iopub.status.idle": "2025-03-22T00:51:44.221612Z",
          "shell.execute_reply": "2025-03-22T00:51:44.220949Z",
          "shell.execute_reply.started": "2025-03-22T00:51:37.365045Z"
        },
        "id": "6bZsfBuZDeCL",
        "trusted": true
      },
      "outputs": [],
      "source": [
        "model = FastLanguageModel.get_peft_model(\n",
        "    model,\n",
        "    r = 64, # Choose any number > 0 ! Suggested 8, 16, 32, 64, 128\n",
        "    target_modules = [\"q_proj\", \"k_proj\", \"v_proj\", \"o_proj\",\n",
        "                      \"gate_proj\", \"up_proj\", \"down_proj\",],\n",
        "    lora_alpha = 64,\n",
        "    lora_dropout = 0, # Supports any, but = 0 is optimized\n",
        "    bias = \"none\",    # Supports any, but = \"none\" is optimized\n",
        "    # [NEW] \"unsloth\" uses 30% less VRAM, fits 2x larger batch sizes!\n",
        "    use_gradient_checkpointing = \"unsloth\", # True or \"unsloth\" for very long context\n",
        "    random_state = 3407,\n",
        "    use_rslora = False,  # We support rank stabilized LoRA\n",
        "    loftq_config = None, # And LoftQ\n",
        "\n",
        ")"
      ]
    },
    {
      "cell_type": "markdown",
      "metadata": {
        "id": "vITh0KVJ10qX"
      },
      "source": [
        "<a name=\"Data\"></a>\n",
        "### Data Prep  \n",
        "\n",
        "We will use the `MrDragonFox/Elise`, which is designed for training TTS models. Ensure that your dataset follows the required format: **text, audio** for single-speaker models or **source, text, audio** for multi-speaker models. You can modify this section to accommodate your own dataset, but maintaining the correct structure is essential for optimal training."
      ]
    },
    {
      "cell_type": "code",
      "execution_count": 72,
      "metadata": {
        "execution": {
          "iopub.execute_input": "2025-03-22T00:51:44.222880Z",
          "iopub.status.busy": "2025-03-22T00:51:44.222617Z",
          "iopub.status.idle": "2025-03-22T00:52:16.516878Z",
          "shell.execute_reply": "2025-03-22T00:52:16.516033Z",
          "shell.execute_reply.started": "2025-03-22T00:51:44.222848Z"
        },
        "id": "LjY75GoYUCB8",
        "trusted": true
      },
      "outputs": [],
      "source": [
        "from datasets import load_dataset\n",
        "dataset = load_dataset(\"hirubyyyy/rubys_all-speakers_small\", split = \"train\")"
      ]
    },
    {
      "cell_type": "code",
      "source": [
        "import locale\n",
        "import torchaudio.transforms as T\n",
        "import os\n",
        "import torch\n",
        "from snac import SNAC\n",
        "locale.getpreferredencoding = lambda: \"UTF-8\"\n",
        "ds_sample_rate = dataset[0][\"audio\"][\"sampling_rate\"]\n",
        "\n",
        "snac_model = SNAC.from_pretrained(\"hubertsiuzdak/snac_24khz\")\n",
        "snac_model = snac_model.to(\"cuda\")"
      ],
      "metadata": {
        "id": "K3pYCoe_ZMZN"
      },
      "execution_count": 73,
      "outputs": []
    },
    {
      "cell_type": "markdown",
      "source": [
        "## 测试新的token"
      ],
      "metadata": {
        "id": "9YbAiChqnzlI"
      }
    },
    {
      "cell_type": "code",
      "source": [
        "# --- 1. 导入必要的库 ---\n",
        "from unsloth import FastLanguageModel\n",
        "import torch\n",
        "\n",
        "\n",
        "# --- 2. 设置模型加载参数 ---\n",
        "# 您可以根据您的硬件和需求调整这些参数\n",
        "dtype = None # 设置为 None 让库自动检测，或者 torch.float16, torch.bfloat16\n",
        "load_in_4bit = True # 如果您的显存有限或者想加速加载，可以设为 True；否则设为 False\n",
        "\n",
        "\n",
        "\n",
        "# --- 4. 定义测试句子 ---\n",
        "test_sentence = \"<whisper>hello my friend\"\n",
        "# 您可以换成任何想测试的句子\n",
        "\n",
        "# --- 5. 使用分词器进行分词 ---\n",
        "\n",
        "# 获取 Token ID 列表\n",
        "# add_special_tokens=False 表示不添加特殊的起始/结束符，只看句子本身的分词结果\n",
        "# 如果想看添加特殊符号后的结果，可以设为 True\n",
        "input_ids = tokenizer.encode(test_sentence, add_special_tokens=False)\n",
        "\n",
        "# 将 Token ID 转换回 Token 字符串列表，方便查看\n",
        "tokens = tokenizer.convert_ids_to_tokens(input_ids)\n",
        "\n",
        "# 将 Token ID 解码回原始字符串，用于验证\n",
        "decoded_sentence = tokenizer.decode(input_ids, skip_special_tokens=True)\n",
        "\n",
        "# --- 6. 打印结果 ---\n",
        "print(\"\\n--- 分词测试结果 ---\")\n",
        "print(f\"原始句子: {test_sentence}\")\n",
        "print(f\"Token 字符串: {tokens}\")\n",
        "print(f\"对应的 Token ID: {input_ids}\")\n",
        "print(f\"解码后的句子: {decoded_sentence}\")\n",
        "\n",
        "# 额外提示：查看词汇表大小\n",
        "# vocab_size = tokenizer.vocab_size\n",
        "# print(f\"\\n分词器的词汇表大小: {vocab_size}\")\n",
        "\n",
        "# 额外提示：测试带特殊符号的情况\n",
        "input_ids_with_special = tokenizer.encode(test_sentence, add_special_tokens=True)\n",
        "tokens_with_special = tokenizer.convert_ids_to_tokens(input_ids_with_special)\n",
        "print(\"\\n--- 带特殊符号的分词结果 ---\")\n",
        "print(f\"Token 字符串 (带特殊符号): {tokens_with_special}\")\n",
        "print(f\"对应的 Token ID (带特殊符号): {input_ids_with_special}\")"
      ],
      "metadata": {
        "colab": {
          "base_uri": "https://localhost:8080/"
        },
        "id": "xygiDqfYnyKq",
        "outputId": "04485410-ec4a-41f3-c53d-83a3838b1c7a"
      },
      "execution_count": 75,
      "outputs": [
        {
          "output_type": "stream",
          "name": "stdout",
          "text": [
            "\n",
            "--- 分词测试结果 ---\n",
            "原始句子: <whisper>hello my friend\n",
            "Token 字符串: ['<', 'wh', 'isper', '>', 'hello', 'Ġmy', 'Ġfriend']\n",
            "对应的 Token ID: [27, 1336, 28470, 29, 15339, 856, 4333]\n",
            "解码后的句子: <whisper>hello my friend\n",
            "\n",
            "--- 带特殊符号的分词结果 ---\n",
            "Token 字符串 (带特殊符号): ['<|begin_of_text|>', '<', 'wh', 'isper', '>', 'hello', 'Ġmy', 'Ġfriend']\n",
            "对应的 Token ID (带特殊符号): [128000, 27, 1336, 28470, 29, 15339, 856, 4333]\n"
          ]
        }
      ]
    },
    {
      "cell_type": "code",
      "execution_count": 55,
      "metadata": {
        "colab": {
          "base_uri": "https://localhost:8080/",
          "height": 408
        },
        "execution": {
          "iopub.execute_input": "2025-03-22T00:52:16.518175Z",
          "iopub.status.busy": "2025-03-22T00:52:16.517841Z",
          "iopub.status.idle": "2025-03-22T00:52:35.039329Z",
          "shell.execute_reply": "2025-03-22T00:52:35.038356Z",
          "shell.execute_reply.started": "2025-03-22T00:52:16.518146Z"
        },
        "id": "zK94B-Pfioto",
        "outputId": "02b55c2c-cee6-499e-fb58-2387c104f66b",
        "trusted": true
      },
      "outputs": [
        {
          "output_type": "error",
          "ename": "ValueError",
          "evalue": "Column to remove ['audio'] not in the dataset. Current columns in the dataset: ['input_ids', 'labels', 'attention_mask']",
          "traceback": [
            "\u001b[0;31m---------------------------------------------------------------------------\u001b[0m",
            "\u001b[0;31mValueError\u001b[0m                                Traceback (most recent call last)",
            "\u001b[0;32m<ipython-input-55-8818efe30c7b>\u001b[0m in \u001b[0;36m<cell line: 0>\u001b[0;34m()\u001b[0m\n\u001b[1;32m     43\u001b[0m     \u001b[0;32mreturn\u001b[0m \u001b[0mexample\u001b[0m\u001b[0;34m\u001b[0m\u001b[0;34m\u001b[0m\u001b[0m\n\u001b[1;32m     44\u001b[0m \u001b[0;34m\u001b[0m\u001b[0m\n\u001b[0;32m---> 45\u001b[0;31m \u001b[0mdataset\u001b[0m \u001b[0;34m=\u001b[0m \u001b[0mdataset\u001b[0m\u001b[0;34m.\u001b[0m\u001b[0mmap\u001b[0m\u001b[0;34m(\u001b[0m\u001b[0madd_codes\u001b[0m\u001b[0;34m,\u001b[0m \u001b[0mremove_columns\u001b[0m\u001b[0;34m=\u001b[0m\u001b[0;34m[\u001b[0m\u001b[0;34m\"audio\"\u001b[0m\u001b[0;34m]\u001b[0m\u001b[0;34m)\u001b[0m\u001b[0;34m\u001b[0m\u001b[0;34m\u001b[0m\u001b[0m\n\u001b[0m\u001b[1;32m     46\u001b[0m \u001b[0;34m\u001b[0m\u001b[0m\n\u001b[1;32m     47\u001b[0m \u001b[0mtokeniser_length\u001b[0m \u001b[0;34m=\u001b[0m \u001b[0;36m128256\u001b[0m\u001b[0;34m\u001b[0m\u001b[0;34m\u001b[0m\u001b[0m\n",
            "\u001b[0;32m/usr/local/lib/python3.11/dist-packages/datasets/arrow_dataset.py\u001b[0m in \u001b[0;36mwrapper\u001b[0;34m(*args, **kwargs)\u001b[0m\n\u001b[1;32m    555\u001b[0m         }\n\u001b[1;32m    556\u001b[0m         \u001b[0;31m# apply actual function\u001b[0m\u001b[0;34m\u001b[0m\u001b[0;34m\u001b[0m\u001b[0m\n\u001b[0;32m--> 557\u001b[0;31m         \u001b[0mout\u001b[0m\u001b[0;34m:\u001b[0m \u001b[0mUnion\u001b[0m\u001b[0;34m[\u001b[0m\u001b[0;34m\"Dataset\"\u001b[0m\u001b[0;34m,\u001b[0m \u001b[0;34m\"DatasetDict\"\u001b[0m\u001b[0;34m]\u001b[0m \u001b[0;34m=\u001b[0m \u001b[0mfunc\u001b[0m\u001b[0;34m(\u001b[0m\u001b[0mself\u001b[0m\u001b[0;34m,\u001b[0m \u001b[0;34m*\u001b[0m\u001b[0margs\u001b[0m\u001b[0;34m,\u001b[0m \u001b[0;34m**\u001b[0m\u001b[0mkwargs\u001b[0m\u001b[0;34m)\u001b[0m\u001b[0;34m\u001b[0m\u001b[0;34m\u001b[0m\u001b[0m\n\u001b[0m\u001b[1;32m    558\u001b[0m         \u001b[0mdatasets\u001b[0m\u001b[0;34m:\u001b[0m \u001b[0mlist\u001b[0m\u001b[0;34m[\u001b[0m\u001b[0;34m\"Dataset\"\u001b[0m\u001b[0;34m]\u001b[0m \u001b[0;34m=\u001b[0m \u001b[0mlist\u001b[0m\u001b[0;34m(\u001b[0m\u001b[0mout\u001b[0m\u001b[0;34m.\u001b[0m\u001b[0mvalues\u001b[0m\u001b[0;34m(\u001b[0m\u001b[0;34m)\u001b[0m\u001b[0;34m)\u001b[0m \u001b[0;32mif\u001b[0m \u001b[0misinstance\u001b[0m\u001b[0;34m(\u001b[0m\u001b[0mout\u001b[0m\u001b[0;34m,\u001b[0m \u001b[0mdict\u001b[0m\u001b[0;34m)\u001b[0m \u001b[0;32melse\u001b[0m \u001b[0;34m[\u001b[0m\u001b[0mout\u001b[0m\u001b[0;34m]\u001b[0m\u001b[0;34m\u001b[0m\u001b[0;34m\u001b[0m\u001b[0m\n\u001b[1;32m    559\u001b[0m         \u001b[0;31m# re-apply format to the output\u001b[0m\u001b[0;34m\u001b[0m\u001b[0;34m\u001b[0m\u001b[0m\n",
            "\u001b[0;32m/usr/local/lib/python3.11/dist-packages/datasets/arrow_dataset.py\u001b[0m in \u001b[0;36mmap\u001b[0;34m(self, function, with_indices, with_rank, input_columns, batched, batch_size, drop_last_batch, remove_columns, keep_in_memory, load_from_cache_file, cache_file_name, writer_batch_size, features, disable_nullable, fn_kwargs, num_proc, suffix_template, new_fingerprint, desc)\u001b[0m\n\u001b[1;32m   2993\u001b[0m             \u001b[0mmissing_columns\u001b[0m \u001b[0;34m=\u001b[0m \u001b[0mset\u001b[0m\u001b[0;34m(\u001b[0m\u001b[0mremove_columns\u001b[0m\u001b[0;34m)\u001b[0m \u001b[0;34m-\u001b[0m \u001b[0mset\u001b[0m\u001b[0;34m(\u001b[0m\u001b[0mself\u001b[0m\u001b[0;34m.\u001b[0m\u001b[0m_data\u001b[0m\u001b[0;34m.\u001b[0m\u001b[0mcolumn_names\u001b[0m\u001b[0;34m)\u001b[0m\u001b[0;34m\u001b[0m\u001b[0;34m\u001b[0m\u001b[0m\n\u001b[1;32m   2994\u001b[0m             \u001b[0;32mif\u001b[0m \u001b[0mmissing_columns\u001b[0m\u001b[0;34m:\u001b[0m\u001b[0;34m\u001b[0m\u001b[0;34m\u001b[0m\u001b[0m\n\u001b[0;32m-> 2995\u001b[0;31m                 raise ValueError(\n\u001b[0m\u001b[1;32m   2996\u001b[0m                     \u001b[0;34mf\"Column to remove {list(missing_columns)} not in the dataset. Current columns in the dataset: {self._data.column_names}\"\u001b[0m\u001b[0;34m\u001b[0m\u001b[0;34m\u001b[0m\u001b[0m\n\u001b[1;32m   2997\u001b[0m                 )\n",
            "\u001b[0;31mValueError\u001b[0m: Column to remove ['audio'] not in the dataset. Current columns in the dataset: ['input_ids', 'labels', 'attention_mask']"
          ]
        }
      ],
      "source": [
        "#@title Tokenisation Function\n",
        "\n",
        "def tokenise_audio(waveform):\n",
        "  waveform = torch.from_numpy(waveform).unsqueeze(0)\n",
        "  waveform = waveform.to(dtype=torch.float32)\n",
        "  resample_transform = T.Resample(orig_freq=ds_sample_rate, new_freq=24000)\n",
        "  waveform = resample_transform(waveform)\n",
        "\n",
        "  waveform = waveform.unsqueeze(0).to(\"cuda\")\n",
        "\n",
        "  #generate the codes from snac\n",
        "  with torch.inference_mode():\n",
        "    codes = snac_model.encode(waveform)\n",
        "\n",
        "  all_codes = []\n",
        "  for i in range(codes[0].shape[1]):\n",
        "    all_codes.append(codes[0][0][i].item()+128266)\n",
        "    all_codes.append(codes[1][0][2*i].item()+128266+4096)\n",
        "    all_codes.append(codes[2][0][4*i].item()+128266+(2*4096))\n",
        "    all_codes.append(codes[2][0][(4*i)+1].item()+128266+(3*4096))\n",
        "    all_codes.append(codes[1][0][(2*i)+1].item()+128266+(4*4096))\n",
        "    all_codes.append(codes[2][0][(4*i)+2].item()+128266+(5*4096))\n",
        "    all_codes.append(codes[2][0][(4*i)+3].item()+128266+(6*4096))\n",
        "\n",
        "\n",
        "  return all_codes\n",
        "\n",
        "def add_codes(example):\n",
        "    # Always initialize codes_list to None\n",
        "    codes_list = None\n",
        "\n",
        "    try:\n",
        "        answer_audio = example.get(\"audio\")\n",
        "        # If there's a valid audio array, tokenise it\n",
        "        if answer_audio and \"array\" in answer_audio:\n",
        "            audio_array = answer_audio[\"array\"]\n",
        "            codes_list = tokenise_audio(audio_array)\n",
        "    except Exception as e:\n",
        "        print(f\"Skipping row due to error: {e}\")\n",
        "        # Keep codes_list as None if we fail\n",
        "    example[\"codes_list\"] = codes_list\n",
        "\n",
        "    return example\n",
        "\n",
        "dataset = dataset.map(add_codes, remove_columns=[\"audio\"])\n",
        "\n",
        "tokeniser_length = 128256\n",
        "start_of_text = 128000\n",
        "end_of_text = 128009\n",
        "\n",
        "start_of_speech = tokeniser_length + 1\n",
        "end_of_speech = tokeniser_length + 2\n",
        "\n",
        "start_of_human = tokeniser_length + 3\n",
        "end_of_human = tokeniser_length + 4\n",
        "\n",
        "start_of_ai = tokeniser_length + 5\n",
        "end_of_ai =  tokeniser_length + 6\n",
        "pad_token = tokeniser_length + 7\n",
        "\n",
        "audio_tokens_start = tokeniser_length + 10\n",
        "\n",
        "dataset = dataset.filter(lambda x: x[\"codes_list\"] is not None)\n",
        "dataset = dataset.filter(lambda x: len(x[\"codes_list\"]) > 0)\n",
        "\n",
        "def remove_duplicate_frames(example):\n",
        "    vals = example[\"codes_list\"]\n",
        "    if len(vals) % 7 != 0:\n",
        "        raise ValueError(\"Input list length must be divisible by 7\")\n",
        "\n",
        "    result = vals[:7]\n",
        "\n",
        "    removed_frames = 0\n",
        "\n",
        "    for i in range(7, len(vals), 7):\n",
        "        current_first = vals[i]\n",
        "        previous_first = result[-7]\n",
        "\n",
        "        if current_first != previous_first:\n",
        "            result.extend(vals[i:i+7])\n",
        "        else:\n",
        "            removed_frames += 1\n",
        "\n",
        "    example[\"codes_list\"] = result\n",
        "\n",
        "    return example\n",
        "\n",
        "dataset = dataset.map(remove_duplicate_frames)\n",
        "\n",
        "tok_info = '''*** HERE you can modify the text prompt\n",
        "If you are training a multi-speaker model (e.g., canopylabs/orpheus-3b-0.1-ft),\n",
        "ensure that the dataset includes a \"source\" field and format the input accordingly:\n",
        "- Single-speaker: f\"{example['text']}\"\n",
        "- Multi-speaker: f\"{example['source']}: {example['text']}\"\n",
        "'''\n",
        "print(tok_info)\n",
        "\n",
        "def create_input_ids(example):\n",
        "    # Determine whether to include the source field\n",
        "    text_prompt = f\"{example['source']}: {example['text']}\" if \"source\" in example else example[\"text\"]\n",
        "\n",
        "    text_ids = tokenizer.encode(text_prompt, add_special_tokens=True)\n",
        "    text_ids.append(end_of_text)\n",
        "\n",
        "    example[\"text_tokens\"] = text_ids\n",
        "    input_ids = (\n",
        "        [start_of_human]\n",
        "        + example[\"text_tokens\"]\n",
        "        + [end_of_human]\n",
        "        + [start_of_ai]\n",
        "        + [start_of_speech]\n",
        "        + example[\"codes_list\"]\n",
        "        + [end_of_speech]\n",
        "        + [end_of_ai]\n",
        "    )\n",
        "    example[\"input_ids\"] = input_ids\n",
        "    example[\"labels\"] = input_ids\n",
        "    example[\"attention_mask\"] = [1] * len(input_ids)\n",
        "\n",
        "    return example\n",
        "\n",
        "\n",
        "dataset = dataset.map(create_input_ids, remove_columns=[\"text\", \"codes_list\"])\n",
        "columns_to_keep = [\"input_ids\", \"labels\", \"attention_mask\"]\n",
        "columns_to_remove = [col for col in dataset.column_names if col not in columns_to_keep]\n",
        "\n",
        "dataset = dataset.remove_columns(columns_to_remove)"
      ]
    },
    {
      "cell_type": "markdown",
      "metadata": {
        "id": "idAEIeSQ3xdS"
      },
      "source": [
        "<a name=\"Train\"></a>\n",
        "### Train the model\n",
        "Now let's use Huggingface  `Trainer`! More docs here: [Transformers docs](https://huggingface.co/docs/transformers/main_classes/trainer). We do 60 steps to speed things up, but you can set `num_train_epochs=1` for a full run, and turn off `max_steps=None`.\n",
        "\n",
        "**Note:** Using a per_device_train_batch_size >1 may lead to errors if multi-GPU setup to avoid issues, ensure CUDA_VISIBLE_DEVICES is set to a single GPU (e.g., CUDA_VISIBLE_DEVICES=0)."
      ]
    },
    {
      "cell_type": "code",
      "execution_count": 62,
      "metadata": {
        "execution": {
          "iopub.execute_input": "2025-03-22T00:34:09.688959Z",
          "iopub.status.busy": "2025-03-22T00:34:09.688649Z",
          "iopub.status.idle": "2025-03-22T00:34:09.729661Z",
          "shell.execute_reply": "2025-03-22T00:34:09.729001Z",
          "shell.execute_reply.started": "2025-03-22T00:34:09.688939Z"
        },
        "id": "95_Nn-89DhsL",
        "trusted": true
      },
      "outputs": [],
      "source": [
        "from transformers import TrainingArguments,Trainer,DataCollatorForSeq2Seq\n",
        "from unsloth import is_bfloat16_supported\n",
        "\n",
        "trainer = Trainer(\n",
        "    model = model,\n",
        "    train_dataset = dataset,\n",
        "    args = TrainingArguments(\n",
        "        per_device_train_batch_size = 1,\n",
        "        gradient_accumulation_steps = 4,\n",
        "        warmup_steps = 5,\n",
        "        # num_train_epochs = 1, # Set this for 1 full training run.\n",
        "        max_steps = 60,\n",
        "        learning_rate = 2e-4,\n",
        "        fp16 = not is_bfloat16_supported(),\n",
        "        bf16 = is_bfloat16_supported(),\n",
        "        logging_steps = 1,\n",
        "        optim = \"adamw_8bit\",\n",
        "        weight_decay = 0.01,\n",
        "        lr_scheduler_type = \"linear\",\n",
        "        seed = 3407,\n",
        "        output_dir = \"outputs\",\n",
        "        report_to = \"none\", # Use this for WandB etc\n",
        "    ),\n",
        ")"
      ]
    },
    {
      "cell_type": "code",
      "execution_count": 63,
      "metadata": {
        "colab": {
          "base_uri": "https://localhost:8080/"
        },
        "id": "2ejIt2xSNKKp",
        "outputId": "01fe0146-a2fc-42bc-fd95-5f4f43ed0cb2"
      },
      "outputs": [
        {
          "output_type": "stream",
          "name": "stdout",
          "text": [
            "GPU = Tesla T4. Max memory = 14.741 GB.\n",
            "10.988 GB of memory reserved.\n"
          ]
        }
      ],
      "source": [
        "# @title Show current memory stats\n",
        "gpu_stats = torch.cuda.get_device_properties(0)\n",
        "start_gpu_memory = round(torch.cuda.max_memory_reserved() / 1024 / 1024 / 1024, 3)\n",
        "max_memory = round(gpu_stats.total_memory / 1024 / 1024 / 1024, 3)\n",
        "print(f\"GPU = {gpu_stats.name}. Max memory = {max_memory} GB.\")\n",
        "print(f\"{start_gpu_memory} GB of memory reserved.\")"
      ]
    },
    {
      "cell_type": "code",
      "execution_count": 64,
      "metadata": {
        "colab": {
          "base_uri": "https://localhost:8080/",
          "height": 304
        },
        "execution": {
          "iopub.execute_input": "2025-03-22T00:34:12.049152Z",
          "iopub.status.busy": "2025-03-22T00:34:12.048862Z",
          "iopub.status.idle": "2025-03-22T00:34:14.404349Z",
          "shell.execute_reply": "2025-03-22T00:34:14.403239Z",
          "shell.execute_reply.started": "2025-03-22T00:34:12.049130Z"
        },
        "id": "yqxqAZ7KJ4oL",
        "outputId": "2a73f9a5-6018-430e-923c-1844ef079287",
        "trusted": true
      },
      "outputs": [
        {
          "output_type": "error",
          "ename": "ValueError",
          "evalue": "No columns in the dataset match the model's forward method signature. The following columns have been ignored: [text, audio]. Please check the dataset and model. You may need to set `remove_unused_columns=False` in `TrainingArguments`.",
          "traceback": [
            "\u001b[0;31m---------------------------------------------------------------------------\u001b[0m",
            "\u001b[0;31mValueError\u001b[0m                                Traceback (most recent call last)",
            "\u001b[0;32m<ipython-input-64-3d62c575fcfd>\u001b[0m in \u001b[0;36m<cell line: 0>\u001b[0;34m()\u001b[0m\n\u001b[0;32m----> 1\u001b[0;31m \u001b[0mtrainer_stats\u001b[0m \u001b[0;34m=\u001b[0m \u001b[0mtrainer\u001b[0m\u001b[0;34m.\u001b[0m\u001b[0mtrain\u001b[0m\u001b[0;34m(\u001b[0m\u001b[0;34m)\u001b[0m\u001b[0;34m\u001b[0m\u001b[0;34m\u001b[0m\u001b[0m\n\u001b[0m",
            "\u001b[0;32m/usr/local/lib/python3.11/dist-packages/transformers/trainer.py\u001b[0m in \u001b[0;36mtrain\u001b[0;34m(self, resume_from_checkpoint, trial, ignore_keys_for_eval, **kwargs)\u001b[0m\n\u001b[1;32m   2243\u001b[0m                 \u001b[0mhf_hub_utils\u001b[0m\u001b[0;34m.\u001b[0m\u001b[0menable_progress_bars\u001b[0m\u001b[0;34m(\u001b[0m\u001b[0;34m)\u001b[0m\u001b[0;34m\u001b[0m\u001b[0;34m\u001b[0m\u001b[0m\n\u001b[1;32m   2244\u001b[0m         \u001b[0;32melse\u001b[0m\u001b[0;34m:\u001b[0m\u001b[0;34m\u001b[0m\u001b[0;34m\u001b[0m\u001b[0m\n\u001b[0;32m-> 2245\u001b[0;31m             return inner_training_loop(\n\u001b[0m\u001b[1;32m   2246\u001b[0m                 \u001b[0margs\u001b[0m\u001b[0;34m=\u001b[0m\u001b[0margs\u001b[0m\u001b[0;34m,\u001b[0m\u001b[0;34m\u001b[0m\u001b[0;34m\u001b[0m\u001b[0m\n\u001b[1;32m   2247\u001b[0m                 \u001b[0mresume_from_checkpoint\u001b[0m\u001b[0;34m=\u001b[0m\u001b[0mresume_from_checkpoint\u001b[0m\u001b[0;34m,\u001b[0m\u001b[0;34m\u001b[0m\u001b[0;34m\u001b[0m\u001b[0m\n",
            "\u001b[0;32m/usr/local/lib/python3.11/dist-packages/unsloth/models/llama.py\u001b[0m in \u001b[0;36m_fast_inner_training_loop\u001b[0;34m(self, batch_size, args, resume_from_checkpoint, trial, ignore_keys_for_eval)\u001b[0m\n",
            "\u001b[0;32m/usr/local/lib/python3.11/dist-packages/transformers/trainer.py\u001b[0m in \u001b[0;36mget_train_dataloader\u001b[0;34m(self)\u001b[0m\n\u001b[1;32m   1011\u001b[0m         \u001b[0mdata_collator\u001b[0m \u001b[0;34m=\u001b[0m \u001b[0mself\u001b[0m\u001b[0;34m.\u001b[0m\u001b[0mdata_collator\u001b[0m\u001b[0;34m\u001b[0m\u001b[0;34m\u001b[0m\u001b[0m\n\u001b[1;32m   1012\u001b[0m         \u001b[0;32mif\u001b[0m \u001b[0mis_datasets_available\u001b[0m\u001b[0;34m(\u001b[0m\u001b[0;34m)\u001b[0m \u001b[0;32mand\u001b[0m \u001b[0misinstance\u001b[0m\u001b[0;34m(\u001b[0m\u001b[0mtrain_dataset\u001b[0m\u001b[0;34m,\u001b[0m \u001b[0mdatasets\u001b[0m\u001b[0;34m.\u001b[0m\u001b[0mDataset\u001b[0m\u001b[0;34m)\u001b[0m\u001b[0;34m:\u001b[0m\u001b[0;34m\u001b[0m\u001b[0;34m\u001b[0m\u001b[0m\n\u001b[0;32m-> 1013\u001b[0;31m             \u001b[0mtrain_dataset\u001b[0m \u001b[0;34m=\u001b[0m \u001b[0mself\u001b[0m\u001b[0;34m.\u001b[0m\u001b[0m_remove_unused_columns\u001b[0m\u001b[0;34m(\u001b[0m\u001b[0mtrain_dataset\u001b[0m\u001b[0;34m,\u001b[0m \u001b[0mdescription\u001b[0m\u001b[0;34m=\u001b[0m\u001b[0;34m\"training\"\u001b[0m\u001b[0;34m)\u001b[0m\u001b[0;34m\u001b[0m\u001b[0;34m\u001b[0m\u001b[0m\n\u001b[0m\u001b[1;32m   1014\u001b[0m         \u001b[0;32melse\u001b[0m\u001b[0;34m:\u001b[0m\u001b[0;34m\u001b[0m\u001b[0;34m\u001b[0m\u001b[0m\n\u001b[1;32m   1015\u001b[0m             \u001b[0mdata_collator\u001b[0m \u001b[0;34m=\u001b[0m \u001b[0mself\u001b[0m\u001b[0;34m.\u001b[0m\u001b[0m_get_collator_with_removed_columns\u001b[0m\u001b[0;34m(\u001b[0m\u001b[0mdata_collator\u001b[0m\u001b[0;34m,\u001b[0m \u001b[0mdescription\u001b[0m\u001b[0;34m=\u001b[0m\u001b[0;34m\"training\"\u001b[0m\u001b[0;34m)\u001b[0m\u001b[0;34m\u001b[0m\u001b[0;34m\u001b[0m\u001b[0m\n",
            "\u001b[0;32m/usr/local/lib/python3.11/dist-packages/transformers/trainer.py\u001b[0m in \u001b[0;36m_remove_unused_columns\u001b[0;34m(self, dataset, description)\u001b[0m\n\u001b[1;32m    937\u001b[0m         \u001b[0mcolumns\u001b[0m \u001b[0;34m=\u001b[0m \u001b[0;34m[\u001b[0m\u001b[0mk\u001b[0m \u001b[0;32mfor\u001b[0m \u001b[0mk\u001b[0m \u001b[0;32min\u001b[0m \u001b[0msignature_columns\u001b[0m \u001b[0;32mif\u001b[0m \u001b[0mk\u001b[0m \u001b[0;32min\u001b[0m \u001b[0mdataset\u001b[0m\u001b[0;34m.\u001b[0m\u001b[0mcolumn_names\u001b[0m\u001b[0;34m]\u001b[0m\u001b[0;34m\u001b[0m\u001b[0;34m\u001b[0m\u001b[0m\n\u001b[1;32m    938\u001b[0m         \u001b[0;32mif\u001b[0m \u001b[0mlen\u001b[0m\u001b[0;34m(\u001b[0m\u001b[0mcolumns\u001b[0m\u001b[0;34m)\u001b[0m \u001b[0;34m==\u001b[0m \u001b[0;36m0\u001b[0m\u001b[0;34m:\u001b[0m\u001b[0;34m\u001b[0m\u001b[0;34m\u001b[0m\u001b[0m\n\u001b[0;32m--> 939\u001b[0;31m             raise ValueError(\n\u001b[0m\u001b[1;32m    940\u001b[0m                 \u001b[0;34m\"No columns in the dataset match the model's forward method signature. \"\u001b[0m\u001b[0;34m\u001b[0m\u001b[0;34m\u001b[0m\u001b[0m\n\u001b[1;32m    941\u001b[0m                 \u001b[0;34mf\"The following columns have been ignored: [{', '.join(ignored_columns)}]. \"\u001b[0m\u001b[0;34m\u001b[0m\u001b[0;34m\u001b[0m\u001b[0m\n",
            "\u001b[0;31mValueError\u001b[0m: No columns in the dataset match the model's forward method signature. The following columns have been ignored: [text, audio]. Please check the dataset and model. You may need to set `remove_unused_columns=False` in `TrainingArguments`."
          ]
        }
      ],
      "source": [
        "trainer_stats = trainer.train()"
      ]
    },
    {
      "cell_type": "code",
      "execution_count": null,
      "metadata": {
        "id": "pCqnaKmlO1U9",
        "outputId": "0a58d8a6-4589-4581-ba15-91939acdd75b",
        "colab": {
          "base_uri": "https://localhost:8080/"
        }
      },
      "outputs": [
        {
          "output_type": "stream",
          "name": "stdout",
          "text": [
            "173.6206 seconds used for training.\n",
            "2.89 minutes used for training.\n",
            "Peak reserved memory = 4.178 GB.\n",
            "Peak reserved memory for training = 1.184 GB.\n",
            "Peak reserved memory % of max memory = 28.343 %.\n",
            "Peak reserved memory for training % of max memory = 8.032 %.\n"
          ]
        }
      ],
      "source": [
        "# @title Show final memory and time stats\n",
        "used_memory = round(torch.cuda.max_memory_reserved() / 1024 / 1024 / 1024, 3)\n",
        "used_memory_for_lora = round(used_memory - start_gpu_memory, 3)\n",
        "used_percentage = round(used_memory / max_memory * 100, 3)\n",
        "lora_percentage = round(used_memory_for_lora / max_memory * 100, 3)\n",
        "print(f\"{trainer_stats.metrics['train_runtime']} seconds used for training.\")\n",
        "print(\n",
        "    f\"{round(trainer_stats.metrics['train_runtime']/60, 2)} minutes used for training.\"\n",
        ")\n",
        "print(f\"Peak reserved memory = {used_memory} GB.\")\n",
        "print(f\"Peak reserved memory for training = {used_memory_for_lora} GB.\")\n",
        "print(f\"Peak reserved memory % of max memory = {used_percentage} %.\")\n",
        "print(f\"Peak reserved memory for training % of max memory = {lora_percentage} %.\")"
      ]
    },
    {
      "cell_type": "markdown",
      "metadata": {
        "id": "ekOmTR1hSNcr"
      },
      "source": [
        "<a name=\"Inference\"></a>\n",
        "### Inference\n",
        "Let's run the model! You can change the prompts\n",
        "\n",
        "**[NEW] Try 2x faster inference in a free Colab for Llama-3.1 8b Instruct [here](https://colab.research.google.com/github/unslothai/notebooks/blob/main/nb/Unsloth_Studio.ipynb)**"
      ]
    },
    {
      "cell_type": "code",
      "execution_count": null,
      "metadata": {
        "id": "apUdB40Ep6Ki"
      },
      "outputs": [],
      "source": [
        "prompts = [\n",
        "    \"<whisper>I like you....<normal>but this is a secret\",\n",
        "]\n",
        "\n",
        "chosen_voice = None # None for single-speaker"
      ]
    },
    {
      "cell_type": "code",
      "execution_count": null,
      "metadata": {
        "colab": {
          "base_uri": "https://localhost:8080/",
          "height": 92
        },
        "execution": {
          "iopub.execute_input": "2025-03-22T00:52:35.040842Z",
          "iopub.status.busy": "2025-03-22T00:52:35.040125Z",
          "iopub.status.idle": "2025-03-22T00:52:35.050560Z",
          "shell.execute_reply": "2025-03-22T00:52:35.049663Z",
          "shell.execute_reply.started": "2025-03-22T00:52:35.040818Z"
        },
        "id": "krYI8PrRJ6MX",
        "outputId": "10c45040-09dc-464d-98c8-036814658b3e",
        "trusted": true
      },
      "outputs": [
        {
          "output_type": "stream",
          "name": "stdout",
          "text": [
            "<whisper>I like you....<normal>but this is a secret\n"
          ]
        },
        {
          "output_type": "display_data",
          "data": {
            "text/plain": [
              "<IPython.lib.display.Audio object>"
            ],
            "text/html": [
              "\n",
              "                <audio  controls=\"controls\" >\n",
              "                    <source src=\"data:audio/wav;base64,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\" type=\"audio/wav\" />\n",
              "                    Your browser does not support the audio element.\n",
              "                </audio>\n",
              "              "
            ]
          },
          "metadata": {}
        }
      ],
      "source": [
        "#@title Run Inference\n",
        "\n",
        "\n",
        "FastLanguageModel.for_inference(model) # Enable native 2x faster inference\n",
        "\n",
        "# Moving snac_model cuda to cpu\n",
        "snac_model.to(\"cpu\")\n",
        "\n",
        "prompts_ = [(f\"{chosen_voice}: \" + p) if chosen_voice else p for p in prompts]\n",
        "\n",
        "all_input_ids = []\n",
        "\n",
        "for prompt in prompts_:\n",
        "  input_ids = tokenizer(prompt, return_tensors=\"pt\").input_ids\n",
        "  all_input_ids.append(input_ids)\n",
        "\n",
        "start_token = torch.tensor([[ 128259]], dtype=torch.int64) # Start of human\n",
        "end_tokens = torch.tensor([[128009, 128260]], dtype=torch.int64) # End of text, End of human\n",
        "\n",
        "all_modified_input_ids = []\n",
        "for input_ids in all_input_ids:\n",
        "  modified_input_ids = torch.cat([start_token, input_ids, end_tokens], dim=1) # SOH SOT Text EOT EOH\n",
        "  all_modified_input_ids.append(modified_input_ids)\n",
        "\n",
        "all_padded_tensors = []\n",
        "all_attention_masks = []\n",
        "max_length = max([modified_input_ids.shape[1] for modified_input_ids in all_modified_input_ids])\n",
        "for modified_input_ids in all_modified_input_ids:\n",
        "  padding = max_length - modified_input_ids.shape[1]\n",
        "  padded_tensor = torch.cat([torch.full((1, padding), 128263, dtype=torch.int64), modified_input_ids], dim=1)\n",
        "  attention_mask = torch.cat([torch.zeros((1, padding), dtype=torch.int64), torch.ones((1, modified_input_ids.shape[1]), dtype=torch.int64)], dim=1)\n",
        "  all_padded_tensors.append(padded_tensor)\n",
        "  all_attention_masks.append(attention_mask)\n",
        "\n",
        "all_padded_tensors = torch.cat(all_padded_tensors, dim=0)\n",
        "all_attention_masks = torch.cat(all_attention_masks, dim=0)\n",
        "\n",
        "input_ids = all_padded_tensors.to(\"cuda\")\n",
        "attention_mask = all_attention_masks.to(\"cuda\")\n",
        "generated_ids = model.generate(\n",
        "      input_ids=input_ids,\n",
        "      attention_mask=attention_mask,\n",
        "      max_new_tokens=1200,\n",
        "      do_sample=True,\n",
        "      temperature=0.6,\n",
        "      top_p=0.95,\n",
        "      repetition_penalty=1.1,\n",
        "      num_return_sequences=1,\n",
        "      eos_token_id=128258,\n",
        "     use_cache = True\n",
        "  )\n",
        "token_to_find = 128257\n",
        "token_to_remove = 128258\n",
        "\n",
        "token_indices = (generated_ids == token_to_find).nonzero(as_tuple=True)\n",
        "\n",
        "if len(token_indices[1]) > 0:\n",
        "    last_occurrence_idx = token_indices[1][-1].item()\n",
        "    cropped_tensor = generated_ids[:, last_occurrence_idx+1:]\n",
        "else:\n",
        "    cropped_tensor = generated_ids\n",
        "\n",
        "mask = cropped_tensor != token_to_remove\n",
        "\n",
        "processed_rows = []\n",
        "\n",
        "for row in cropped_tensor:\n",
        "    masked_row = row[row != token_to_remove]\n",
        "    processed_rows.append(masked_row)\n",
        "\n",
        "code_lists = []\n",
        "\n",
        "for row in processed_rows:\n",
        "    row_length = row.size(0)\n",
        "    new_length = (row_length // 7) * 7\n",
        "    trimmed_row = row[:new_length]\n",
        "    trimmed_row = [t - 128266 for t in trimmed_row]\n",
        "    code_lists.append(trimmed_row)\n",
        "\n",
        "\n",
        "def redistribute_codes(code_list):\n",
        "  layer_1 = []\n",
        "  layer_2 = []\n",
        "  layer_3 = []\n",
        "  for i in range((len(code_list)+1)//7):\n",
        "    layer_1.append(code_list[7*i])\n",
        "    layer_2.append(code_list[7*i+1]-4096)\n",
        "    layer_3.append(code_list[7*i+2]-(2*4096))\n",
        "    layer_3.append(code_list[7*i+3]-(3*4096))\n",
        "    layer_2.append(code_list[7*i+4]-(4*4096))\n",
        "    layer_3.append(code_list[7*i+5]-(5*4096))\n",
        "    layer_3.append(code_list[7*i+6]-(6*4096))\n",
        "  codes = [torch.tensor(layer_1).unsqueeze(0),\n",
        "         torch.tensor(layer_2).unsqueeze(0),\n",
        "         torch.tensor(layer_3).unsqueeze(0)]\n",
        "\n",
        "  # codes = [c.to(\"cuda\") for c in codes]\n",
        "  audio_hat = snac_model.decode(codes)\n",
        "  return audio_hat\n",
        "\n",
        "my_samples = []\n",
        "for code_list in code_lists:\n",
        "  samples = redistribute_codes(code_list)\n",
        "  my_samples.append(samples)\n",
        "from IPython.display import display, Audio\n",
        "if len(prompts) != len(my_samples):\n",
        "  raise Exception(\"Number of prompts and samples do not match\")\n",
        "else:\n",
        "  for i in range(len(my_samples)):\n",
        "    print(prompts[i])\n",
        "    samples = my_samples[i]\n",
        "    display(Audio(samples.detach().squeeze().to(\"cpu\").numpy(), rate=24000))\n",
        "# Clean up to save RAM\n",
        "del my_samples,samples"
      ]
    },
    {
      "cell_type": "markdown",
      "metadata": {
        "id": "uMuVrWbjAzhc"
      },
      "source": [
        "<a name=\"Save\"></a>\n",
        "### Saving, loading finetuned models\n",
        "To save the final model as LoRA adapters, either use Huggingface's `push_to_hub` for an online save or `save_pretrained` for a local save.\n",
        "\n",
        "**[NOTE]** This ONLY saves the LoRA adapters, and not the full model. To save to 16bit or GGUF, scroll down!"
      ]
    },
    {
      "cell_type": "code",
      "execution_count": null,
      "metadata": {
        "colab": {
          "base_uri": "https://localhost:8080/"
        },
        "id": "upcOlWe7A1vc",
        "outputId": "030a6e13-9371-4717-c5c5-d4e3563e0cca"
      },
      "outputs": [
        {
          "data": {
            "text/plain": [
              "('lora_model/tokenizer_config.json',\n",
              " 'lora_model/special_tokens_map.json',\n",
              " 'lora_model/tokenizer.json')"
            ]
          },
          "execution_count": 11,
          "metadata": {},
          "output_type": "execute_result"
        }
      ],
      "source": [
        "model.save_pretrained(\"lora_model\")  # Local saving\n",
        "tokenizer.save_pretrained(\"lora_model\")\n",
        "# model.push_to_hub(\"your_name/lora_model\", token = \"...\") # Online saving\n",
        "# tokenizer.push_to_hub(\"your_name/lora_model\", token = \"...\") # Online saving"
      ]
    },
    {
      "cell_type": "markdown",
      "metadata": {
        "id": "QQMjaNrjsU5_"
      },
      "source": [
        "You can also use Hugging Face's `AutoModelForPeftCausalLM`. Only use this if you do not have `unsloth` installed. It can be hopelessly slow, since `4bit` model downloading is not supported, and Unsloth's **inference is 2x faster**."
      ]
    },
    {
      "cell_type": "code",
      "execution_count": null,
      "metadata": {
        "id": "yFfaXG0WsQuE"
      },
      "outputs": [],
      "source": [
        "if False:\n",
        "    # I highly do NOT suggest - use Unsloth if possible\n",
        "    from peft import AutoPeftModelForCausalLM\n",
        "    from transformers import AutoTokenizer\n",
        "    model = AutoPeftModelForCausalLM.from_pretrained(\n",
        "        \"lora_model\", # YOUR MODEL YOU USED FOR TRAINING\n",
        "        load_in_4bit = load_in_4bit,\n",
        "    )\n",
        "    tokenizer = AutoTokenizer.from_pretrained(\"lora_model\")"
      ]
    },
    {
      "cell_type": "markdown",
      "metadata": {
        "id": "f422JgM9sdVT"
      },
      "source": [
        "### Saving to float16 for VLLM\n",
        "\n",
        "We also support saving to `float16` directly. Select `merged_16bit` for float16 or `merged_4bit` for int4. We also allow `lora` adapters as a fallback. Use `push_to_hub_merged` to upload to your Hugging Face account! You can go to https://huggingface.co/settings/tokens for your personal tokens."
      ]
    },
    {
      "cell_type": "code",
      "execution_count": null,
      "metadata": {
        "colab": {
          "base_uri": "https://localhost:8080/"
        },
        "id": "iHjt_SMYsd3P",
        "outputId": "bd8cccb7-6b95-45bf-80da-de120988447e"
      },
      "outputs": [
        {
          "name": "stderr",
          "output_type": "stream",
          "text": [
            "Unsloth: You have 1 CPUs. Using `safe_serialization` is 10x slower.\n",
            "We shall switch to Pytorch saving, which might take 3 minutes and not 30 minutes.\n",
            "To force `safe_serialization`, set it to `None` instead.\n",
            "Unsloth: Kaggle/Colab has limited disk space. We need to delete the downloaded\n",
            "model which will save 4-16GB of disk space, allowing you to save on Kaggle/Colab.\n",
            "Unsloth: Will remove a cached repo with size 15.1G\n"
          ]
        },
        {
          "name": "stdout",
          "output_type": "stream",
          "text": [
            "Unsloth: Merging 4bit and LoRA weights to 16bit...\n",
            "Unsloth: Will use up to 3.99 out of 12.67 RAM for saving.\n",
            "Unsloth: Saving model... This might take 5 minutes ...\n"
          ]
        },
        {
          "name": "stderr",
          "output_type": "stream",
          "text": [
            "100%|██████████| 28/28 [00:01<00:00, 27.83it/s]\n"
          ]
        },
        {
          "name": "stdout",
          "output_type": "stream",
          "text": [
            "Unsloth: Saving tokenizer... Done.\n",
            "Unsloth: Saving model/pytorch_model-00001-of-00002.bin...\n",
            "Unsloth: Saving model/pytorch_model-00002-of-00002.bin...\n",
            "Done.\n"
          ]
        }
      ],
      "source": [
        "# Merge to 16bit\n",
        "if False: model.save_pretrained_merged(\"model\", tokenizer, save_method = \"merged_16bit\",)\n",
        "if False: model.push_to_hub_merged(\"hf/model\", tokenizer, save_method = \"merged_16bit\", token = \"\")\n",
        "\n",
        "# Merge to 4bit\n",
        "if False: model.save_pretrained_merged(\"model\", tokenizer, save_method = \"merged_4bit\",)\n",
        "if False: model.push_to_hub_merged(\"hf/model\", tokenizer, save_method = \"merged_4bit\", token = \"\")\n",
        "\n",
        "# Just LoRA adapters\n",
        "if False: model.save_pretrained_merged(\"model\", tokenizer, save_method = \"lora\",)\n",
        "if False: model.push_to_hub_merged(\"hf/model\", tokenizer, save_method = \"lora\", token = \"\")"
      ]
    },
    {
      "cell_type": "markdown",
      "metadata": {
        "id": "TCv4vXHd61i7"
      },
      "source": [
        "### GGUF / llama.cpp Conversion\n",
        "To save to `GGUF` / `llama.cpp`, we support it natively now! We clone `llama.cpp` and we default save it to `q8_0`. We allow all methods like `q4_k_m`. Use `save_pretrained_gguf` for local saving and `push_to_hub_gguf` for uploading to HF.\n",
        "\n",
        "Some supported quant methods (full list on our [Wiki page](https://github.com/unslothai/unsloth/wiki#gguf-quantization-options)):\n",
        "* `q8_0` - Fast conversion. High resource use, but generally acceptable.\n",
        "* `q4_k_m` - Recommended. Uses Q6_K for half of the attention.wv and feed_forward.w2 tensors, else Q4_K.\n",
        "* `q5_k_m` - Recommended. Uses Q6_K for half of the attention.wv and feed_forward.w2 tensors, else Q5_K.\n",
        "\n",
        "[**NEW**] To finetune and auto export to Ollama, try our [Ollama notebook](https://colab.research.google.com/github/unslothai/notebooks/blob/main/nb/Llama3_(8B)-Ollama.ipynb)"
      ]
    },
    {
      "cell_type": "code",
      "execution_count": null,
      "metadata": {
        "id": "FqfebeAdT073"
      },
      "outputs": [],
      "source": [
        "# Save to 8bit Q8_0\n",
        "if False: model.save_pretrained_gguf(\"model\", tokenizer,)\n",
        "# Remember to go to https://huggingface.co/settings/tokens for a token!\n",
        "# And change hf to your username!\n",
        "if False: model.push_to_hub_gguf(\"hf/model\", tokenizer, token = \"\")\n",
        "\n",
        "# Save to 16bit GGUF\n",
        "if False: model.save_pretrained_gguf(\"model\", tokenizer, quantization_method = \"f16\")\n",
        "if False: model.push_to_hub_gguf(\"hf/model\", tokenizer, quantization_method = \"f16\", token = \"\")\n",
        "\n",
        "# Save to q4_k_m GGUF\n",
        "if False: model.save_pretrained_gguf(\"model\", tokenizer, quantization_method = \"q4_k_m\")\n",
        "if False: model.push_to_hub_gguf(\"hf/model\", tokenizer, quantization_method = \"q4_k_m\", token = \"\")\n",
        "\n",
        "# Save to multiple GGUF options - much faster if you want multiple!\n",
        "if False:\n",
        "    model.push_to_hub_gguf(\n",
        "        \"hf/model\", # Change hf to your username!\n",
        "        tokenizer,\n",
        "        quantization_method = [\"q4_k_m\", \"q8_0\", \"q5_k_m\",],\n",
        "        token = \"\",\n",
        "    )"
      ]
    },
    {
      "cell_type": "markdown",
      "metadata": {
        "id": "8BKcejRlhRNK"
      },
      "source": [
        "Now, use the `model-unsloth.gguf` file or `model-unsloth-Q4_K_M.gguf` file in llama.cpp or a UI based system like Jan or Open WebUI. You can install Jan [here](https://github.com/janhq/jan) and Open WebUI [here](https://github.com/open-webui/open-webui)\n",
        "\n",
        "And we're done! If you have any questions on Unsloth, we have a [Discord](https://discord.gg/unsloth) channel! If you find any bugs or want to keep updated with the latest LLM stuff, or need help, join projects etc, feel free to join our Discord!\n",
        "\n",
        "Some other links:\n",
        "1. Train your own reasoning model - Llama GRPO notebook [Free Colab](https://colab.research.google.com/github/unslothai/notebooks/blob/main/nb/Llama3.1_(8B)-GRPO.ipynb)\n",
        "2. Saving finetunes to Ollama. [Free notebook](https://colab.research.google.com/github/unslothai/notebooks/blob/main/nb/Llama3_(8B)-Ollama.ipynb)\n",
        "3. Llama 3.2 Vision finetuning - Radiography use case. [Free Colab](https://colab.research.google.com/github/unslothai/notebooks/blob/main/nb/Llama3.2_(11B)-Vision.ipynb)\n",
        "6. See notebooks for DPO, ORPO, Continued pretraining, conversational finetuning and more on our [documentation](https://docs.unsloth.ai/get-started/unsloth-notebooks)!\n",
        "\n",
        "<div class=\"align-center\">\n",
        "  <a href=\"https://unsloth.ai\"><img src=\"https://github.com/unslothai/unsloth/raw/main/images/unsloth%20new%20logo.png\" width=\"115\"></a>\n",
        "  <a href=\"https://discord.gg/unsloth\"><img src=\"https://github.com/unslothai/unsloth/raw/main/images/Discord.png\" width=\"145\"></a>\n",
        "  <a href=\"https://docs.unsloth.ai/\"><img src=\"https://github.com/unslothai/unsloth/blob/main/images/documentation%20green%20button.png?raw=true\" width=\"125\"></a>\n",
        "\n",
        "  Join Discord if you need help + ⭐️ <i>Star us on <a href=\"https://github.com/unslothai/unsloth\">Github</a> </i> ⭐️\n",
        "</div>\n"
      ]
    }
  ],
  "metadata": {
    "accelerator": "GPU",
    "colab": {
      "gpuType": "T4",
      "provenance": [],
      "include_colab_link": true
    },
    "kaggle": {
      "accelerator": "nvidiaTeslaT4",
      "dataSources": [],
      "dockerImageVersionId": 30919,
      "isGpuEnabled": true,
      "isInternetEnabled": true,
      "language": "python",
      "sourceType": "notebook"
    },
    "kernelspec": {
      "display_name": "Python 3",
      "language": "python",
      "name": "python3"
    },
    "language_info": {
      "codemirror_mode": {
        "name": "ipython",
        "version": 3
      },
      "file_extension": ".py",
      "mimetype": "text/x-python",
      "name": "python",
      "nbconvert_exporter": "python",
      "pygments_lexer": "ipython3",
      "version": "3.10.12"
    },
    "widgets": {
      "application/vnd.jupyter.widget-state+json": {
        "cbb64bf119d34ca99b57488d1cfc932c": {
          "model_module": "@jupyter-widgets/controls",
          "model_name": "VBoxModel",
          "model_module_version": "1.5.0",
          "state": {
            "_dom_classes": [],
            "_model_module": "@jupyter-widgets/controls",
            "_model_module_version": "1.5.0",
            "_model_name": "VBoxModel",
            "_view_count": null,
            "_view_module": "@jupyter-widgets/controls",
            "_view_module_version": "1.5.0",
            "_view_name": "VBoxView",
            "box_style": "",
            "children": [],
            "layout": "IPY_MODEL_a266bbb3dda34687b6aa70e821cf0e80"
          }
        },
        "ed60bace38b748afaed20b485d726d77": {
          "model_module": "@jupyter-widgets/controls",
          "model_name": "HTMLModel",
          "model_module_version": "1.5.0",
          "state": {
            "_dom_classes": [],
            "_model_module": "@jupyter-widgets/controls",
            "_model_module_version": "1.5.0",
            "_model_name": "HTMLModel",
            "_view_count": null,
            "_view_module": "@jupyter-widgets/controls",
            "_view_module_version": "1.5.0",
            "_view_name": "HTMLView",
            "description": "",
            "description_tooltip": null,
            "layout": "IPY_MODEL_aa0dee381ba54ec3aebfb6475520d20a",
            "placeholder": "​",
            "style": "IPY_MODEL_9fd0a6e30f7d4a809aebcea255456483",
            "value": "<center> <img\nsrc=https://huggingface.co/front/assets/huggingface_logo-noborder.svg\nalt='Hugging Face'> <br> Copy a token from <a\nhref=\"https://huggingface.co/settings/tokens\" target=\"_blank\">your Hugging Face\ntokens page</a> and paste it below. <br> Immediately click login after copying\nyour token or it might be stored in plain text in this notebook file. </center>"
          }
        },
        "ffbece4a08e84e18bafe7b14fcde3f44": {
          "model_module": "@jupyter-widgets/controls",
          "model_name": "PasswordModel",
          "model_module_version": "1.5.0",
          "state": {
            "_dom_classes": [],
            "_model_module": "@jupyter-widgets/controls",
            "_model_module_version": "1.5.0",
            "_model_name": "PasswordModel",
            "_view_count": null,
            "_view_module": "@jupyter-widgets/controls",
            "_view_module_version": "1.5.0",
            "_view_name": "PasswordView",
            "continuous_update": true,
            "description": "Token:",
            "description_tooltip": null,
            "disabled": false,
            "layout": "IPY_MODEL_81e930b8bad74c6cb9b9b99b96af0589",
            "placeholder": "​",
            "style": "IPY_MODEL_7d9c220c604d42ba999af1b0d4d58126",
            "value": ""
          }
        },
        "b9996ee16c0345fb985de5baad697296": {
          "model_module": "@jupyter-widgets/controls",
          "model_name": "CheckboxModel",
          "model_module_version": "1.5.0",
          "state": {
            "_dom_classes": [],
            "_model_module": "@jupyter-widgets/controls",
            "_model_module_version": "1.5.0",
            "_model_name": "CheckboxModel",
            "_view_count": null,
            "_view_module": "@jupyter-widgets/controls",
            "_view_module_version": "1.5.0",
            "_view_name": "CheckboxView",
            "description": "Add token as git credential?",
            "description_tooltip": null,
            "disabled": false,
            "indent": true,
            "layout": "IPY_MODEL_6870aafa0cd643c289cfb56d978ed7f0",
            "style": "IPY_MODEL_b07becac8ea24a8b9e3ba3837b576c93",
            "value": true
          }
        },
        "9f0de80e866045979be37342d7bdef7c": {
          "model_module": "@jupyter-widgets/controls",
          "model_name": "ButtonModel",
          "model_module_version": "1.5.0",
          "state": {
            "_dom_classes": [],
            "_model_module": "@jupyter-widgets/controls",
            "_model_module_version": "1.5.0",
            "_model_name": "ButtonModel",
            "_view_count": null,
            "_view_module": "@jupyter-widgets/controls",
            "_view_module_version": "1.5.0",
            "_view_name": "ButtonView",
            "button_style": "",
            "description": "Login",
            "disabled": false,
            "icon": "",
            "layout": "IPY_MODEL_97468fd0a34a41caaad0841e25fb7296",
            "style": "IPY_MODEL_dfd115a99ea8433e8963ed2f8936875e",
            "tooltip": ""
          }
        },
        "c41c654f839c4835b3db8c681dbe2aa6": {
          "model_module": "@jupyter-widgets/controls",
          "model_name": "HTMLModel",
          "model_module_version": "1.5.0",
          "state": {
            "_dom_classes": [],
            "_model_module": "@jupyter-widgets/controls",
            "_model_module_version": "1.5.0",
            "_model_name": "HTMLModel",
            "_view_count": null,
            "_view_module": "@jupyter-widgets/controls",
            "_view_module_version": "1.5.0",
            "_view_name": "HTMLView",
            "description": "",
            "description_tooltip": null,
            "layout": "IPY_MODEL_135376f6f7244f0d9ccd0bfcfeb2096a",
            "placeholder": "​",
            "style": "IPY_MODEL_5ca0c6c7e18d453bba4f7df278ae1c6a",
            "value": "\n<b>Pro Tip:</b> If you don't already have one, you can create a dedicated\n'notebooks' token with 'write' access, that you can then easily reuse for all\nnotebooks. </center>"
          }
        },
        "a266bbb3dda34687b6aa70e821cf0e80": {
          "model_module": "@jupyter-widgets/base",
          "model_name": "LayoutModel",
          "model_module_version": "1.2.0",
          "state": {
            "_model_module": "@jupyter-widgets/base",
            "_model_module_version": "1.2.0",
            "_model_name": "LayoutModel",
            "_view_count": null,
            "_view_module": "@jupyter-widgets/base",
            "_view_module_version": "1.2.0",
            "_view_name": "LayoutView",
            "align_content": null,
            "align_items": "center",
            "align_self": null,
            "border": null,
            "bottom": null,
            "display": "flex",
            "flex": null,
            "flex_flow": "column",
            "grid_area": null,
            "grid_auto_columns": null,
            "grid_auto_flow": null,
            "grid_auto_rows": null,
            "grid_column": null,
            "grid_gap": null,
            "grid_row": null,
            "grid_template_areas": null,
            "grid_template_columns": null,
            "grid_template_rows": null,
            "height": null,
            "justify_content": null,
            "justify_items": null,
            "left": null,
            "margin": null,
            "max_height": null,
            "max_width": null,
            "min_height": null,
            "min_width": null,
            "object_fit": null,
            "object_position": null,
            "order": null,
            "overflow": null,
            "overflow_x": null,
            "overflow_y": null,
            "padding": null,
            "right": null,
            "top": null,
            "visibility": null,
            "width": "50%"
          }
        },
        "aa0dee381ba54ec3aebfb6475520d20a": {
          "model_module": "@jupyter-widgets/base",
          "model_name": "LayoutModel",
          "model_module_version": "1.2.0",
          "state": {
            "_model_module": "@jupyter-widgets/base",
            "_model_module_version": "1.2.0",
            "_model_name": "LayoutModel",
            "_view_count": null,
            "_view_module": "@jupyter-widgets/base",
            "_view_module_version": "1.2.0",
            "_view_name": "LayoutView",
            "align_content": null,
            "align_items": null,
            "align_self": null,
            "border": null,
            "bottom": null,
            "display": null,
            "flex": null,
            "flex_flow": null,
            "grid_area": null,
            "grid_auto_columns": null,
            "grid_auto_flow": null,
            "grid_auto_rows": null,
            "grid_column": null,
            "grid_gap": null,
            "grid_row": null,
            "grid_template_areas": null,
            "grid_template_columns": null,
            "grid_template_rows": null,
            "height": null,
            "justify_content": null,
            "justify_items": null,
            "left": null,
            "margin": null,
            "max_height": null,
            "max_width": null,
            "min_height": null,
            "min_width": null,
            "object_fit": null,
            "object_position": null,
            "order": null,
            "overflow": null,
            "overflow_x": null,
            "overflow_y": null,
            "padding": null,
            "right": null,
            "top": null,
            "visibility": null,
            "width": null
          }
        },
        "9fd0a6e30f7d4a809aebcea255456483": {
          "model_module": "@jupyter-widgets/controls",
          "model_name": "DescriptionStyleModel",
          "model_module_version": "1.5.0",
          "state": {
            "_model_module": "@jupyter-widgets/controls",
            "_model_module_version": "1.5.0",
            "_model_name": "DescriptionStyleModel",
            "_view_count": null,
            "_view_module": "@jupyter-widgets/base",
            "_view_module_version": "1.2.0",
            "_view_name": "StyleView",
            "description_width": ""
          }
        },
        "81e930b8bad74c6cb9b9b99b96af0589": {
          "model_module": "@jupyter-widgets/base",
          "model_name": "LayoutModel",
          "model_module_version": "1.2.0",
          "state": {
            "_model_module": "@jupyter-widgets/base",
            "_model_module_version": "1.2.0",
            "_model_name": "LayoutModel",
            "_view_count": null,
            "_view_module": "@jupyter-widgets/base",
            "_view_module_version": "1.2.0",
            "_view_name": "LayoutView",
            "align_content": null,
            "align_items": null,
            "align_self": null,
            "border": null,
            "bottom": null,
            "display": null,
            "flex": null,
            "flex_flow": null,
            "grid_area": null,
            "grid_auto_columns": null,
            "grid_auto_flow": null,
            "grid_auto_rows": null,
            "grid_column": null,
            "grid_gap": null,
            "grid_row": null,
            "grid_template_areas": null,
            "grid_template_columns": null,
            "grid_template_rows": null,
            "height": null,
            "justify_content": null,
            "justify_items": null,
            "left": null,
            "margin": null,
            "max_height": null,
            "max_width": null,
            "min_height": null,
            "min_width": null,
            "object_fit": null,
            "object_position": null,
            "order": null,
            "overflow": null,
            "overflow_x": null,
            "overflow_y": null,
            "padding": null,
            "right": null,
            "top": null,
            "visibility": null,
            "width": null
          }
        },
        "7d9c220c604d42ba999af1b0d4d58126": {
          "model_module": "@jupyter-widgets/controls",
          "model_name": "DescriptionStyleModel",
          "model_module_version": "1.5.0",
          "state": {
            "_model_module": "@jupyter-widgets/controls",
            "_model_module_version": "1.5.0",
            "_model_name": "DescriptionStyleModel",
            "_view_count": null,
            "_view_module": "@jupyter-widgets/base",
            "_view_module_version": "1.2.0",
            "_view_name": "StyleView",
            "description_width": ""
          }
        },
        "6870aafa0cd643c289cfb56d978ed7f0": {
          "model_module": "@jupyter-widgets/base",
          "model_name": "LayoutModel",
          "model_module_version": "1.2.0",
          "state": {
            "_model_module": "@jupyter-widgets/base",
            "_model_module_version": "1.2.0",
            "_model_name": "LayoutModel",
            "_view_count": null,
            "_view_module": "@jupyter-widgets/base",
            "_view_module_version": "1.2.0",
            "_view_name": "LayoutView",
            "align_content": null,
            "align_items": null,
            "align_self": null,
            "border": null,
            "bottom": null,
            "display": null,
            "flex": null,
            "flex_flow": null,
            "grid_area": null,
            "grid_auto_columns": null,
            "grid_auto_flow": null,
            "grid_auto_rows": null,
            "grid_column": null,
            "grid_gap": null,
            "grid_row": null,
            "grid_template_areas": null,
            "grid_template_columns": null,
            "grid_template_rows": null,
            "height": null,
            "justify_content": null,
            "justify_items": null,
            "left": null,
            "margin": null,
            "max_height": null,
            "max_width": null,
            "min_height": null,
            "min_width": null,
            "object_fit": null,
            "object_position": null,
            "order": null,
            "overflow": null,
            "overflow_x": null,
            "overflow_y": null,
            "padding": null,
            "right": null,
            "top": null,
            "visibility": null,
            "width": null
          }
        },
        "b07becac8ea24a8b9e3ba3837b576c93": {
          "model_module": "@jupyter-widgets/controls",
          "model_name": "DescriptionStyleModel",
          "model_module_version": "1.5.0",
          "state": {
            "_model_module": "@jupyter-widgets/controls",
            "_model_module_version": "1.5.0",
            "_model_name": "DescriptionStyleModel",
            "_view_count": null,
            "_view_module": "@jupyter-widgets/base",
            "_view_module_version": "1.2.0",
            "_view_name": "StyleView",
            "description_width": ""
          }
        },
        "97468fd0a34a41caaad0841e25fb7296": {
          "model_module": "@jupyter-widgets/base",
          "model_name": "LayoutModel",
          "model_module_version": "1.2.0",
          "state": {
            "_model_module": "@jupyter-widgets/base",
            "_model_module_version": "1.2.0",
            "_model_name": "LayoutModel",
            "_view_count": null,
            "_view_module": "@jupyter-widgets/base",
            "_view_module_version": "1.2.0",
            "_view_name": "LayoutView",
            "align_content": null,
            "align_items": null,
            "align_self": null,
            "border": null,
            "bottom": null,
            "display": null,
            "flex": null,
            "flex_flow": null,
            "grid_area": null,
            "grid_auto_columns": null,
            "grid_auto_flow": null,
            "grid_auto_rows": null,
            "grid_column": null,
            "grid_gap": null,
            "grid_row": null,
            "grid_template_areas": null,
            "grid_template_columns": null,
            "grid_template_rows": null,
            "height": null,
            "justify_content": null,
            "justify_items": null,
            "left": null,
            "margin": null,
            "max_height": null,
            "max_width": null,
            "min_height": null,
            "min_width": null,
            "object_fit": null,
            "object_position": null,
            "order": null,
            "overflow": null,
            "overflow_x": null,
            "overflow_y": null,
            "padding": null,
            "right": null,
            "top": null,
            "visibility": null,
            "width": null
          }
        },
        "dfd115a99ea8433e8963ed2f8936875e": {
          "model_module": "@jupyter-widgets/controls",
          "model_name": "ButtonStyleModel",
          "model_module_version": "1.5.0",
          "state": {
            "_model_module": "@jupyter-widgets/controls",
            "_model_module_version": "1.5.0",
            "_model_name": "ButtonStyleModel",
            "_view_count": null,
            "_view_module": "@jupyter-widgets/base",
            "_view_module_version": "1.2.0",
            "_view_name": "StyleView",
            "button_color": null,
            "font_weight": ""
          }
        },
        "135376f6f7244f0d9ccd0bfcfeb2096a": {
          "model_module": "@jupyter-widgets/base",
          "model_name": "LayoutModel",
          "model_module_version": "1.2.0",
          "state": {
            "_model_module": "@jupyter-widgets/base",
            "_model_module_version": "1.2.0",
            "_model_name": "LayoutModel",
            "_view_count": null,
            "_view_module": "@jupyter-widgets/base",
            "_view_module_version": "1.2.0",
            "_view_name": "LayoutView",
            "align_content": null,
            "align_items": null,
            "align_self": null,
            "border": null,
            "bottom": null,
            "display": null,
            "flex": null,
            "flex_flow": null,
            "grid_area": null,
            "grid_auto_columns": null,
            "grid_auto_flow": null,
            "grid_auto_rows": null,
            "grid_column": null,
            "grid_gap": null,
            "grid_row": null,
            "grid_template_areas": null,
            "grid_template_columns": null,
            "grid_template_rows": null,
            "height": null,
            "justify_content": null,
            "justify_items": null,
            "left": null,
            "margin": null,
            "max_height": null,
            "max_width": null,
            "min_height": null,
            "min_width": null,
            "object_fit": null,
            "object_position": null,
            "order": null,
            "overflow": null,
            "overflow_x": null,
            "overflow_y": null,
            "padding": null,
            "right": null,
            "top": null,
            "visibility": null,
            "width": null
          }
        },
        "5ca0c6c7e18d453bba4f7df278ae1c6a": {
          "model_module": "@jupyter-widgets/controls",
          "model_name": "DescriptionStyleModel",
          "model_module_version": "1.5.0",
          "state": {
            "_model_module": "@jupyter-widgets/controls",
            "_model_module_version": "1.5.0",
            "_model_name": "DescriptionStyleModel",
            "_view_count": null,
            "_view_module": "@jupyter-widgets/base",
            "_view_module_version": "1.2.0",
            "_view_name": "StyleView",
            "description_width": ""
          }
        },
        "26ba3522d34643daa8f2849d8aed7dc6": {
          "model_module": "@jupyter-widgets/controls",
          "model_name": "LabelModel",
          "model_module_version": "1.5.0",
          "state": {
            "_dom_classes": [],
            "_model_module": "@jupyter-widgets/controls",
            "_model_module_version": "1.5.0",
            "_model_name": "LabelModel",
            "_view_count": null,
            "_view_module": "@jupyter-widgets/controls",
            "_view_module_version": "1.5.0",
            "_view_name": "LabelView",
            "description": "",
            "description_tooltip": null,
            "layout": "IPY_MODEL_b9460c25bd454825912575d0be493dac",
            "placeholder": "​",
            "style": "IPY_MODEL_c26c9fa2efda405fae8846287bb1ffd8",
            "value": "Connecting..."
          }
        },
        "b9460c25bd454825912575d0be493dac": {
          "model_module": "@jupyter-widgets/base",
          "model_name": "LayoutModel",
          "model_module_version": "1.2.0",
          "state": {
            "_model_module": "@jupyter-widgets/base",
            "_model_module_version": "1.2.0",
            "_model_name": "LayoutModel",
            "_view_count": null,
            "_view_module": "@jupyter-widgets/base",
            "_view_module_version": "1.2.0",
            "_view_name": "LayoutView",
            "align_content": null,
            "align_items": null,
            "align_self": null,
            "border": null,
            "bottom": null,
            "display": null,
            "flex": null,
            "flex_flow": null,
            "grid_area": null,
            "grid_auto_columns": null,
            "grid_auto_flow": null,
            "grid_auto_rows": null,
            "grid_column": null,
            "grid_gap": null,
            "grid_row": null,
            "grid_template_areas": null,
            "grid_template_columns": null,
            "grid_template_rows": null,
            "height": null,
            "justify_content": null,
            "justify_items": null,
            "left": null,
            "margin": null,
            "max_height": null,
            "max_width": null,
            "min_height": null,
            "min_width": null,
            "object_fit": null,
            "object_position": null,
            "order": null,
            "overflow": null,
            "overflow_x": null,
            "overflow_y": null,
            "padding": null,
            "right": null,
            "top": null,
            "visibility": null,
            "width": null
          }
        },
        "c26c9fa2efda405fae8846287bb1ffd8": {
          "model_module": "@jupyter-widgets/controls",
          "model_name": "DescriptionStyleModel",
          "model_module_version": "1.5.0",
          "state": {
            "_model_module": "@jupyter-widgets/controls",
            "_model_module_version": "1.5.0",
            "_model_name": "DescriptionStyleModel",
            "_view_count": null,
            "_view_module": "@jupyter-widgets/base",
            "_view_module_version": "1.2.0",
            "_view_name": "StyleView",
            "description_width": ""
          }
        }
      }
    }
  },
  "nbformat": 4,
  "nbformat_minor": 0
}